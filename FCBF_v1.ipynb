{
  "nbformat": 4,
  "nbformat_minor": 0,
  "metadata": {
    "colab": {
      "provenance": [],
      "collapsed_sections": []
    },
    "kernelspec": {
      "name": "python3",
      "display_name": "Python 3"
    },
    "language_info": {
      "name": "python"
    }
  },
  "cells": [
    {
      "cell_type": "code",
      "source": [
        "pip install ibmdbpy"
      ],
      "metadata": {
        "colab": {
          "base_uri": "https://localhost:8080/"
        },
        "id": "bjSAauSni_ww",
        "outputId": "0bd4b245-b43a-4fb1-d6d8-39cdd0ee09cb"
      },
      "execution_count": 1,
      "outputs": [
        {
          "output_type": "stream",
          "name": "stdout",
          "text": [
            "Looking in indexes: https://pypi.org/simple, https://us-python.pkg.dev/colab-wheels/public/simple/\n",
            "Collecting ibmdbpy\n",
            "  Downloading ibmdbpy-0.1.6-py2.py3-none-any.whl (148 kB)\n",
            "\u001b[K     |████████████████████████████████| 148 kB 4.7 MB/s \n",
            "\u001b[?25hRequirement already satisfied: future in /usr/local/lib/python3.7/dist-packages (from ibmdbpy) (0.16.0)\n",
            "Requirement already satisfied: pandas in /usr/local/lib/python3.7/dist-packages (from ibmdbpy) (1.3.5)\n",
            "Requirement already satisfied: numpy in /usr/local/lib/python3.7/dist-packages (from ibmdbpy) (1.21.6)\n",
            "Collecting pypyodbc\n",
            "  Downloading pypyodbc-1.3.6.tar.gz (24 kB)\n",
            "Collecting lazy\n",
            "  Downloading lazy-1.5-py2.py3-none-any.whl (5.0 kB)\n",
            "Requirement already satisfied: six in /usr/local/lib/python3.7/dist-packages (from ibmdbpy) (1.15.0)\n",
            "Requirement already satisfied: python-dateutil>=2.7.3 in /usr/local/lib/python3.7/dist-packages (from pandas->ibmdbpy) (2.8.2)\n",
            "Requirement already satisfied: pytz>=2017.3 in /usr/local/lib/python3.7/dist-packages (from pandas->ibmdbpy) (2022.2.1)\n",
            "Requirement already satisfied: setuptools in /usr/local/lib/python3.7/dist-packages (from pypyodbc->ibmdbpy) (57.4.0)\n",
            "Building wheels for collected packages: pypyodbc\n",
            "  Building wheel for pypyodbc (setup.py) ... \u001b[?25l\u001b[?25hdone\n",
            "  Created wheel for pypyodbc: filename=pypyodbc-1.3.6-py3-none-any.whl size=22873 sha256=9cae984aaf5618d1baa65691e7025b17eaff7dffd5b90cfdc962fa172c6dad29\n",
            "  Stored in directory: /root/.cache/pip/wheels/83/ef/f2/c2cc4edd495948cddf26ce772b1ffcbda9c649358b0de9dad5\n",
            "Successfully built pypyodbc\n",
            "Installing collected packages: pypyodbc, lazy, ibmdbpy\n",
            "Successfully installed ibmdbpy-0.1.6 lazy-1.5 pypyodbc-1.3.6\n"
          ]
        }
      ]
    },
    {
      "cell_type": "code",
      "source": [
        "pip install arff"
      ],
      "metadata": {
        "colab": {
          "base_uri": "https://localhost:8080/"
        },
        "id": "ZjPgMX4Qw1p_",
        "outputId": "0f0ba73e-bf90-48c2-a073-c0c954696b19"
      },
      "execution_count": 2,
      "outputs": [
        {
          "output_type": "stream",
          "name": "stdout",
          "text": [
            "Looking in indexes: https://pypi.org/simple, https://us-python.pkg.dev/colab-wheels/public/simple/\n",
            "Collecting arff\n",
            "  Downloading arff-0.9.tar.gz (4.7 kB)\n",
            "Building wheels for collected packages: arff\n",
            "  Building wheel for arff (setup.py) ... \u001b[?25l\u001b[?25hdone\n",
            "  Created wheel for arff: filename=arff-0.9-py3-none-any.whl size=4971 sha256=abde406d8b8f0ef6c2916bebbcae6fff8aaa7a37e680ea02deb264cd6ac09d51\n",
            "  Stored in directory: /root/.cache/pip/wheels/fe/81/bd/4ae90e24ba860304e375da219f9205b2586dbee255f3ee70e2\n",
            "Successfully built arff\n",
            "Installing collected packages: arff\n",
            "Successfully installed arff-0.9\n"
          ]
        }
      ]
    },
    {
      "cell_type": "code",
      "source": [
        "pip install -U ITMO_FS"
      ],
      "metadata": {
        "colab": {
          "base_uri": "https://localhost:8080/"
        },
        "id": "NNbQv3orQZnq",
        "outputId": "c52c31a9-c4ec-4732-a3dc-dac3200ee0ce"
      },
      "execution_count": 3,
      "outputs": [
        {
          "output_type": "stream",
          "name": "stdout",
          "text": [
            "Looking in indexes: https://pypi.org/simple, https://us-python.pkg.dev/colab-wheels/public/simple/\n",
            "Collecting ITMO_FS\n",
            "  Downloading ITMO_FS-0.3.3-py3-none-any.whl (70 kB)\n",
            "\u001b[K     |████████████████████████████████| 70 kB 3.3 MB/s \n",
            "\u001b[?25hRequirement already satisfied: numpy in /usr/local/lib/python3.7/dist-packages (from ITMO_FS) (1.21.6)\n",
            "Requirement already satisfied: imblearn in /usr/local/lib/python3.7/dist-packages (from ITMO_FS) (0.0)\n",
            "Collecting qpsolvers\n",
            "  Downloading qpsolvers-2.3.0-py3-none-any.whl (46 kB)\n",
            "\u001b[K     |████████████████████████████████| 46 kB 4.1 MB/s \n",
            "\u001b[?25hRequirement already satisfied: scipy in /usr/local/lib/python3.7/dist-packages (from ITMO_FS) (1.7.3)\n",
            "Requirement already satisfied: scikit-learn in /usr/local/lib/python3.7/dist-packages (from ITMO_FS) (1.0.2)\n",
            "Requirement already satisfied: imbalanced-learn in /usr/local/lib/python3.7/dist-packages (from imblearn->ITMO_FS) (0.8.1)\n",
            "Requirement already satisfied: joblib>=0.11 in /usr/local/lib/python3.7/dist-packages (from imbalanced-learn->imblearn->ITMO_FS) (1.1.0)\n",
            "Requirement already satisfied: threadpoolctl>=2.0.0 in /usr/local/lib/python3.7/dist-packages (from scikit-learn->ITMO_FS) (3.1.0)\n",
            "Installing collected packages: qpsolvers, ITMO-FS\n",
            "Successfully installed ITMO-FS-0.3.3 qpsolvers-2.3.0\n"
          ]
        }
      ]
    },
    {
      "cell_type": "code",
      "execution_count": 4,
      "metadata": {
        "id": "HLVZfXg6iMRS",
        "colab": {
          "base_uri": "https://localhost:8080/"
        },
        "outputId": "7953cd34-ab43-460d-fbac-018ef7f55b40"
      },
      "outputs": [
        {
          "output_type": "stream",
          "name": "stderr",
          "text": [
            "/usr/local/lib/python3.7/dist-packages/ibmdbpy/frame.py:45: FutureWarning: pandas.core.index is deprecated and will be removed in a future version.  The public classes are available in the top-level namespace.\n",
            "  from pandas.core.index import Index, RangeIndex\n"
          ]
        }
      ],
      "source": [
        "import ibmdbpy\n",
        "import pandas as pd\n",
        "import numpy as np\n",
        "from ibmdbpy.feature_selection import su\n",
        "from scipy.io import arff\n",
        "from ITMO_FS.filters.univariate import su_measure"
      ]
    },
    {
      "cell_type": "code",
      "source": [
        "raw = arff.loadarff('corral.arff')\n",
        "df = pd.DataFrame(raw[0])\n",
        "df = df.astype(int)"
      ],
      "metadata": {
        "id": "9g_sQUG_xEIq"
      },
      "execution_count": 5,
      "outputs": []
    },
    {
      "cell_type": "code",
      "source": [
        "df"
      ],
      "metadata": {
        "colab": {
          "base_uri": "https://localhost:8080/",
          "height": 424
        },
        "id": "gq6E2JHBzbTC",
        "outputId": "af9441b6-3677-4cec-ce50-37ab2b8982fb"
      },
      "execution_count": 6,
      "outputs": [
        {
          "output_type": "execute_result",
          "data": {
            "text/plain": [
              "     A0  A1  B0  B1  Irrelevant  Correlated  class\n",
              "0     0   0   0   0           0           0      0\n",
              "1     0   0   0   0           1           0      0\n",
              "2     0   0   0   1           0           0      0\n",
              "3     0   0   0   1           1           0      0\n",
              "4     0   0   1   0           0           1      0\n",
              "..   ..  ..  ..  ..         ...         ...    ...\n",
              "155   1   1   1   0           1           1      1\n",
              "156   1   1   1   1           0           0      1\n",
              "157   1   1   1   1           0           1      1\n",
              "158   1   1   1   1           1           0      1\n",
              "159   1   1   1   1           1           1      1\n",
              "\n",
              "[160 rows x 7 columns]"
            ],
            "text/html": [
              "\n",
              "  <div id=\"df-f1686020-535b-4941-b3b8-88664d11578c\">\n",
              "    <div class=\"colab-df-container\">\n",
              "      <div>\n",
              "<style scoped>\n",
              "    .dataframe tbody tr th:only-of-type {\n",
              "        vertical-align: middle;\n",
              "    }\n",
              "\n",
              "    .dataframe tbody tr th {\n",
              "        vertical-align: top;\n",
              "    }\n",
              "\n",
              "    .dataframe thead th {\n",
              "        text-align: right;\n",
              "    }\n",
              "</style>\n",
              "<table border=\"1\" class=\"dataframe\">\n",
              "  <thead>\n",
              "    <tr style=\"text-align: right;\">\n",
              "      <th></th>\n",
              "      <th>A0</th>\n",
              "      <th>A1</th>\n",
              "      <th>B0</th>\n",
              "      <th>B1</th>\n",
              "      <th>Irrelevant</th>\n",
              "      <th>Correlated</th>\n",
              "      <th>class</th>\n",
              "    </tr>\n",
              "  </thead>\n",
              "  <tbody>\n",
              "    <tr>\n",
              "      <th>0</th>\n",
              "      <td>0</td>\n",
              "      <td>0</td>\n",
              "      <td>0</td>\n",
              "      <td>0</td>\n",
              "      <td>0</td>\n",
              "      <td>0</td>\n",
              "      <td>0</td>\n",
              "    </tr>\n",
              "    <tr>\n",
              "      <th>1</th>\n",
              "      <td>0</td>\n",
              "      <td>0</td>\n",
              "      <td>0</td>\n",
              "      <td>0</td>\n",
              "      <td>1</td>\n",
              "      <td>0</td>\n",
              "      <td>0</td>\n",
              "    </tr>\n",
              "    <tr>\n",
              "      <th>2</th>\n",
              "      <td>0</td>\n",
              "      <td>0</td>\n",
              "      <td>0</td>\n",
              "      <td>1</td>\n",
              "      <td>0</td>\n",
              "      <td>0</td>\n",
              "      <td>0</td>\n",
              "    </tr>\n",
              "    <tr>\n",
              "      <th>3</th>\n",
              "      <td>0</td>\n",
              "      <td>0</td>\n",
              "      <td>0</td>\n",
              "      <td>1</td>\n",
              "      <td>1</td>\n",
              "      <td>0</td>\n",
              "      <td>0</td>\n",
              "    </tr>\n",
              "    <tr>\n",
              "      <th>4</th>\n",
              "      <td>0</td>\n",
              "      <td>0</td>\n",
              "      <td>1</td>\n",
              "      <td>0</td>\n",
              "      <td>0</td>\n",
              "      <td>1</td>\n",
              "      <td>0</td>\n",
              "    </tr>\n",
              "    <tr>\n",
              "      <th>...</th>\n",
              "      <td>...</td>\n",
              "      <td>...</td>\n",
              "      <td>...</td>\n",
              "      <td>...</td>\n",
              "      <td>...</td>\n",
              "      <td>...</td>\n",
              "      <td>...</td>\n",
              "    </tr>\n",
              "    <tr>\n",
              "      <th>155</th>\n",
              "      <td>1</td>\n",
              "      <td>1</td>\n",
              "      <td>1</td>\n",
              "      <td>0</td>\n",
              "      <td>1</td>\n",
              "      <td>1</td>\n",
              "      <td>1</td>\n",
              "    </tr>\n",
              "    <tr>\n",
              "      <th>156</th>\n",
              "      <td>1</td>\n",
              "      <td>1</td>\n",
              "      <td>1</td>\n",
              "      <td>1</td>\n",
              "      <td>0</td>\n",
              "      <td>0</td>\n",
              "      <td>1</td>\n",
              "    </tr>\n",
              "    <tr>\n",
              "      <th>157</th>\n",
              "      <td>1</td>\n",
              "      <td>1</td>\n",
              "      <td>1</td>\n",
              "      <td>1</td>\n",
              "      <td>0</td>\n",
              "      <td>1</td>\n",
              "      <td>1</td>\n",
              "    </tr>\n",
              "    <tr>\n",
              "      <th>158</th>\n",
              "      <td>1</td>\n",
              "      <td>1</td>\n",
              "      <td>1</td>\n",
              "      <td>1</td>\n",
              "      <td>1</td>\n",
              "      <td>0</td>\n",
              "      <td>1</td>\n",
              "    </tr>\n",
              "    <tr>\n",
              "      <th>159</th>\n",
              "      <td>1</td>\n",
              "      <td>1</td>\n",
              "      <td>1</td>\n",
              "      <td>1</td>\n",
              "      <td>1</td>\n",
              "      <td>1</td>\n",
              "      <td>1</td>\n",
              "    </tr>\n",
              "  </tbody>\n",
              "</table>\n",
              "<p>160 rows × 7 columns</p>\n",
              "</div>\n",
              "      <button class=\"colab-df-convert\" onclick=\"convertToInteractive('df-f1686020-535b-4941-b3b8-88664d11578c')\"\n",
              "              title=\"Convert this dataframe to an interactive table.\"\n",
              "              style=\"display:none;\">\n",
              "        \n",
              "  <svg xmlns=\"http://www.w3.org/2000/svg\" height=\"24px\"viewBox=\"0 0 24 24\"\n",
              "       width=\"24px\">\n",
              "    <path d=\"M0 0h24v24H0V0z\" fill=\"none\"/>\n",
              "    <path d=\"M18.56 5.44l.94 2.06.94-2.06 2.06-.94-2.06-.94-.94-2.06-.94 2.06-2.06.94zm-11 1L8.5 8.5l.94-2.06 2.06-.94-2.06-.94L8.5 2.5l-.94 2.06-2.06.94zm10 10l.94 2.06.94-2.06 2.06-.94-2.06-.94-.94-2.06-.94 2.06-2.06.94z\"/><path d=\"M17.41 7.96l-1.37-1.37c-.4-.4-.92-.59-1.43-.59-.52 0-1.04.2-1.43.59L10.3 9.45l-7.72 7.72c-.78.78-.78 2.05 0 2.83L4 21.41c.39.39.9.59 1.41.59.51 0 1.02-.2 1.41-.59l7.78-7.78 2.81-2.81c.8-.78.8-2.07 0-2.86zM5.41 20L4 18.59l7.72-7.72 1.47 1.35L5.41 20z\"/>\n",
              "  </svg>\n",
              "      </button>\n",
              "      \n",
              "  <style>\n",
              "    .colab-df-container {\n",
              "      display:flex;\n",
              "      flex-wrap:wrap;\n",
              "      gap: 12px;\n",
              "    }\n",
              "\n",
              "    .colab-df-convert {\n",
              "      background-color: #E8F0FE;\n",
              "      border: none;\n",
              "      border-radius: 50%;\n",
              "      cursor: pointer;\n",
              "      display: none;\n",
              "      fill: #1967D2;\n",
              "      height: 32px;\n",
              "      padding: 0 0 0 0;\n",
              "      width: 32px;\n",
              "    }\n",
              "\n",
              "    .colab-df-convert:hover {\n",
              "      background-color: #E2EBFA;\n",
              "      box-shadow: 0px 1px 2px rgba(60, 64, 67, 0.3), 0px 1px 3px 1px rgba(60, 64, 67, 0.15);\n",
              "      fill: #174EA6;\n",
              "    }\n",
              "\n",
              "    [theme=dark] .colab-df-convert {\n",
              "      background-color: #3B4455;\n",
              "      fill: #D2E3FC;\n",
              "    }\n",
              "\n",
              "    [theme=dark] .colab-df-convert:hover {\n",
              "      background-color: #434B5C;\n",
              "      box-shadow: 0px 1px 3px 1px rgba(0, 0, 0, 0.15);\n",
              "      filter: drop-shadow(0px 1px 2px rgba(0, 0, 0, 0.3));\n",
              "      fill: #FFFFFF;\n",
              "    }\n",
              "  </style>\n",
              "\n",
              "      <script>\n",
              "        const buttonEl =\n",
              "          document.querySelector('#df-f1686020-535b-4941-b3b8-88664d11578c button.colab-df-convert');\n",
              "        buttonEl.style.display =\n",
              "          google.colab.kernel.accessAllowed ? 'block' : 'none';\n",
              "\n",
              "        async function convertToInteractive(key) {\n",
              "          const element = document.querySelector('#df-f1686020-535b-4941-b3b8-88664d11578c');\n",
              "          const dataTable =\n",
              "            await google.colab.kernel.invokeFunction('convertToInteractive',\n",
              "                                                     [key], {});\n",
              "          if (!dataTable) return;\n",
              "\n",
              "          const docLinkHtml = 'Like what you see? Visit the ' +\n",
              "            '<a target=\"_blank\" href=https://colab.research.google.com/notebooks/data_table.ipynb>data table notebook</a>'\n",
              "            + ' to learn more about interactive tables.';\n",
              "          element.innerHTML = '';\n",
              "          dataTable['output_type'] = 'display_data';\n",
              "          await google.colab.output.renderOutput(dataTable, element);\n",
              "          const docLink = document.createElement('div');\n",
              "          docLink.innerHTML = docLinkHtml;\n",
              "          element.appendChild(docLink);\n",
              "        }\n",
              "      </script>\n",
              "    </div>\n",
              "  </div>\n",
              "  "
            ]
          },
          "metadata": {},
          "execution_count": 6
        }
      ]
    },
    {
      "cell_type": "code",
      "source": [
        "su_basic = su_measure(np.array(df[[\"A1\", \"B1\", \"A0\", \"B0\", \"Irrelevant\", \"Correlated\"]]), np.array(df[\"class\"]))\n",
        "su_basic.size"
      ],
      "metadata": {
        "colab": {
          "base_uri": "https://localhost:8080/"
        },
        "id": "4EtdiY1jidev",
        "outputId": "3b06681f-78d6-4b5b-ca67-6da60af89e6e"
      },
      "execution_count": 7,
      "outputs": [
        {
          "output_type": "execute_result",
          "data": {
            "text/plain": [
              "6"
            ]
          },
          "metadata": {},
          "execution_count": 7
        }
      ]
    },
    {
      "cell_type": "code",
      "source": [
        "s_list = np.array([])"
      ],
      "metadata": {
        "id": "KEYUZQ93gAHi"
      },
      "execution_count": 8,
      "outputs": []
    },
    {
      "cell_type": "code",
      "source": [
        "s_list = np.append(s_list, 3)"
      ],
      "metadata": {
        "id": "TkdJnh5ggCSa"
      },
      "execution_count": 9,
      "outputs": []
    },
    {
      "cell_type": "code",
      "source": [
        "def FCBF_algo(df, sigma):\n",
        "  n = df.shape[1]\n",
        "  su_basic = su_measure(np.array(df[[\"A0\", \"A1\", \"B0\", \"B1\", \"Irrelevant\", \"Correlated\"]]), np.array(df[\"class\"]))\n",
        "  \n",
        "  s_list = []\n",
        "\n",
        "  for su, name in zip(su_basic, np.array(df.columns)[:np.array(df.columns).size-1]):\n",
        "    if (su > sigma):\n",
        "      s_list.append([su, name])\n",
        "  \n",
        "  s_list.sort(reverse=True)\n",
        "  print(\"Set at the start:\", s_list)\n",
        "  s_list.append([np.NaN, np.NaN])\n",
        "  \n",
        "  j = 0\n",
        "  F_j = s_list[j][1]\n",
        "  while True:\n",
        "    i = j + 1\n",
        "    F_i = s_list[i][1]\n",
        "    if (not(pd.isna(F_i))):\n",
        "      while True:\n",
        "        print(\"Compairing F_\", i, \" : \", s_list[i][1], \" to F_\", j, \" : \", s_list[j][1], sep = '') \n",
        "        if (su_measure(np.array(df[[F_i]]), np.array(df[F_j])) >= s_list[i][0]):\n",
        "          print(\"Удалён элемент: \", s_list[i][1])\n",
        "          s_list.pop(i)\n",
        "          i -= 1\n",
        "        i += 1\n",
        "        F_i = s_list[i][1]\n",
        "        if (pd.isna(F_i)):\n",
        "          break\n",
        "    j += 1\n",
        "    F_j = s_list[j][1]\n",
        "    if (pd.isna(F_j)):\n",
        "      break\n",
        "  return s_list"
      ],
      "metadata": {
        "id": "3TmFYO22jLdL"
      },
      "execution_count": 78,
      "outputs": []
    },
    {
      "cell_type": "code",
      "source": [
        "fin_list = FCBF_algo(df, 0)\n",
        "print(fin_list)"
      ],
      "metadata": {
        "colab": {
          "base_uri": "https://localhost:8080/"
        },
        "id": "9mKM6MAoqTsO",
        "outputId": "7467d86d-50f5-4f83-d5ea-908dfc5df02f"
      },
      "execution_count": 79,
      "outputs": [
        {
          "output_type": "stream",
          "name": "stdout",
          "text": [
            "Set at the start: [[0.5912979324490651, 'Correlated'], [0.5503811930164574, 'B1'], [0.5503811930164574, 'B0'], [0.5503811930164574, 'A1'], [0.5503811930164574, 'A0'], [0.4971587984427401, 'Irrelevant']]\n",
            "Compairing F_1 : B1 to F_0 : Correlated\n",
            "Compairing F_2 : B0 to F_0 : Correlated\n",
            "Compairing F_3 : A1 to F_0 : Correlated\n",
            "Compairing F_4 : A0 to F_0 : Correlated\n",
            "Compairing F_5 : Irrelevant to F_0 : Correlated\n",
            "Удалён элемент:  Irrelevant\n",
            "Compairing F_2 : B0 to F_1 : B1\n",
            "Compairing F_3 : A1 to F_1 : B1\n",
            "Compairing F_4 : A0 to F_1 : B1\n",
            "Compairing F_3 : A1 to F_2 : B0\n",
            "Compairing F_4 : A0 to F_2 : B0\n",
            "Compairing F_4 : A0 to F_3 : A1\n",
            "[[0.5912979324490651, 'Correlated'], [0.5503811930164574, 'B1'], [0.5503811930164574, 'B0'], [0.5503811930164574, 'A1'], [0.5503811930164574, 'A0'], [nan, nan]]\n"
          ]
        }
      ]
    }
  ]
}